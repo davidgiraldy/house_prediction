{
 "cells": [
  {
   "cell_type": "code",
   "execution_count": 1,
   "id": "f5b7ebf9",
   "metadata": {},
   "outputs": [],
   "source": [
    "import numpy as np\n",
    "import pandas as pd\n",
    "import matplotlib.pyplot as plt\n",
    "import seaborn as sns"
   ]
  },
  {
   "cell_type": "code",
   "execution_count": 2,
   "id": "a2db72d7",
   "metadata": {},
   "outputs": [],
   "source": [
    "df = pd.read_csv(\"CSV/AMES_Final_DF.csv\")"
   ]
  },
  {
   "cell_type": "code",
   "execution_count": 3,
   "id": "b4b63512",
   "metadata": {},
   "outputs": [
    {
     "data": {
      "text/html": [
       "<div>\n",
       "<style scoped>\n",
       "    .dataframe tbody tr th:only-of-type {\n",
       "        vertical-align: middle;\n",
       "    }\n",
       "\n",
       "    .dataframe tbody tr th {\n",
       "        vertical-align: top;\n",
       "    }\n",
       "\n",
       "    .dataframe thead th {\n",
       "        text-align: right;\n",
       "    }\n",
       "</style>\n",
       "<table border=\"1\" class=\"dataframe\">\n",
       "  <thead>\n",
       "    <tr style=\"text-align: right;\">\n",
       "      <th></th>\n",
       "      <th>Lot Frontage</th>\n",
       "      <th>Lot Area</th>\n",
       "      <th>Overall Qual</th>\n",
       "      <th>Overall Cond</th>\n",
       "      <th>Year Built</th>\n",
       "      <th>Year Remod/Add</th>\n",
       "      <th>Mas Vnr Area</th>\n",
       "      <th>BsmtFin SF 1</th>\n",
       "      <th>BsmtFin SF 2</th>\n",
       "      <th>Bsmt Unf SF</th>\n",
       "      <th>...</th>\n",
       "      <th>Sale Type_ConLw</th>\n",
       "      <th>Sale Type_New</th>\n",
       "      <th>Sale Type_Oth</th>\n",
       "      <th>Sale Type_VWD</th>\n",
       "      <th>Sale Type_WD</th>\n",
       "      <th>Sale Condition_AdjLand</th>\n",
       "      <th>Sale Condition_Alloca</th>\n",
       "      <th>Sale Condition_Family</th>\n",
       "      <th>Sale Condition_Normal</th>\n",
       "      <th>Sale Condition_Partial</th>\n",
       "    </tr>\n",
       "  </thead>\n",
       "  <tbody>\n",
       "    <tr>\n",
       "      <th>0</th>\n",
       "      <td>141.0</td>\n",
       "      <td>31770</td>\n",
       "      <td>6</td>\n",
       "      <td>5</td>\n",
       "      <td>1960</td>\n",
       "      <td>1960</td>\n",
       "      <td>112.0</td>\n",
       "      <td>639.0</td>\n",
       "      <td>0.0</td>\n",
       "      <td>441.0</td>\n",
       "      <td>...</td>\n",
       "      <td>0</td>\n",
       "      <td>0</td>\n",
       "      <td>0</td>\n",
       "      <td>0</td>\n",
       "      <td>1</td>\n",
       "      <td>0</td>\n",
       "      <td>0</td>\n",
       "      <td>0</td>\n",
       "      <td>1</td>\n",
       "      <td>0</td>\n",
       "    </tr>\n",
       "    <tr>\n",
       "      <th>1</th>\n",
       "      <td>80.0</td>\n",
       "      <td>11622</td>\n",
       "      <td>5</td>\n",
       "      <td>6</td>\n",
       "      <td>1961</td>\n",
       "      <td>1961</td>\n",
       "      <td>0.0</td>\n",
       "      <td>468.0</td>\n",
       "      <td>144.0</td>\n",
       "      <td>270.0</td>\n",
       "      <td>...</td>\n",
       "      <td>0</td>\n",
       "      <td>0</td>\n",
       "      <td>0</td>\n",
       "      <td>0</td>\n",
       "      <td>1</td>\n",
       "      <td>0</td>\n",
       "      <td>0</td>\n",
       "      <td>0</td>\n",
       "      <td>1</td>\n",
       "      <td>0</td>\n",
       "    </tr>\n",
       "    <tr>\n",
       "      <th>2</th>\n",
       "      <td>81.0</td>\n",
       "      <td>14267</td>\n",
       "      <td>6</td>\n",
       "      <td>6</td>\n",
       "      <td>1958</td>\n",
       "      <td>1958</td>\n",
       "      <td>108.0</td>\n",
       "      <td>923.0</td>\n",
       "      <td>0.0</td>\n",
       "      <td>406.0</td>\n",
       "      <td>...</td>\n",
       "      <td>0</td>\n",
       "      <td>0</td>\n",
       "      <td>0</td>\n",
       "      <td>0</td>\n",
       "      <td>1</td>\n",
       "      <td>0</td>\n",
       "      <td>0</td>\n",
       "      <td>0</td>\n",
       "      <td>1</td>\n",
       "      <td>0</td>\n",
       "    </tr>\n",
       "    <tr>\n",
       "      <th>3</th>\n",
       "      <td>93.0</td>\n",
       "      <td>11160</td>\n",
       "      <td>7</td>\n",
       "      <td>5</td>\n",
       "      <td>1968</td>\n",
       "      <td>1968</td>\n",
       "      <td>0.0</td>\n",
       "      <td>1065.0</td>\n",
       "      <td>0.0</td>\n",
       "      <td>1045.0</td>\n",
       "      <td>...</td>\n",
       "      <td>0</td>\n",
       "      <td>0</td>\n",
       "      <td>0</td>\n",
       "      <td>0</td>\n",
       "      <td>1</td>\n",
       "      <td>0</td>\n",
       "      <td>0</td>\n",
       "      <td>0</td>\n",
       "      <td>1</td>\n",
       "      <td>0</td>\n",
       "    </tr>\n",
       "    <tr>\n",
       "      <th>4</th>\n",
       "      <td>74.0</td>\n",
       "      <td>13830</td>\n",
       "      <td>5</td>\n",
       "      <td>5</td>\n",
       "      <td>1997</td>\n",
       "      <td>1998</td>\n",
       "      <td>0.0</td>\n",
       "      <td>791.0</td>\n",
       "      <td>0.0</td>\n",
       "      <td>137.0</td>\n",
       "      <td>...</td>\n",
       "      <td>0</td>\n",
       "      <td>0</td>\n",
       "      <td>0</td>\n",
       "      <td>0</td>\n",
       "      <td>1</td>\n",
       "      <td>0</td>\n",
       "      <td>0</td>\n",
       "      <td>0</td>\n",
       "      <td>1</td>\n",
       "      <td>0</td>\n",
       "    </tr>\n",
       "  </tbody>\n",
       "</table>\n",
       "<p>5 rows × 274 columns</p>\n",
       "</div>"
      ],
      "text/plain": [
       "   Lot Frontage  Lot Area  Overall Qual  Overall Cond  Year Built  \\\n",
       "0         141.0     31770             6             5        1960   \n",
       "1          80.0     11622             5             6        1961   \n",
       "2          81.0     14267             6             6        1958   \n",
       "3          93.0     11160             7             5        1968   \n",
       "4          74.0     13830             5             5        1997   \n",
       "\n",
       "   Year Remod/Add  Mas Vnr Area  BsmtFin SF 1  BsmtFin SF 2  Bsmt Unf SF  ...  \\\n",
       "0            1960         112.0         639.0           0.0        441.0  ...   \n",
       "1            1961           0.0         468.0         144.0        270.0  ...   \n",
       "2            1958         108.0         923.0           0.0        406.0  ...   \n",
       "3            1968           0.0        1065.0           0.0       1045.0  ...   \n",
       "4            1998           0.0         791.0           0.0        137.0  ...   \n",
       "\n",
       "   Sale Type_ConLw  Sale Type_New  Sale Type_Oth  Sale Type_VWD  \\\n",
       "0                0              0              0              0   \n",
       "1                0              0              0              0   \n",
       "2                0              0              0              0   \n",
       "3                0              0              0              0   \n",
       "4                0              0              0              0   \n",
       "\n",
       "   Sale Type_WD   Sale Condition_AdjLand  Sale Condition_Alloca  \\\n",
       "0              1                       0                      0   \n",
       "1              1                       0                      0   \n",
       "2              1                       0                      0   \n",
       "3              1                       0                      0   \n",
       "4              1                       0                      0   \n",
       "\n",
       "   Sale Condition_Family  Sale Condition_Normal  Sale Condition_Partial  \n",
       "0                      0                      1                       0  \n",
       "1                      0                      1                       0  \n",
       "2                      0                      1                       0  \n",
       "3                      0                      1                       0  \n",
       "4                      0                      1                       0  \n",
       "\n",
       "[5 rows x 274 columns]"
      ]
     },
     "execution_count": 3,
     "metadata": {},
     "output_type": "execute_result"
    }
   ],
   "source": [
    "df.head()"
   ]
  },
  {
   "cell_type": "code",
   "execution_count": 4,
   "id": "e58302e0",
   "metadata": {},
   "outputs": [
    {
     "name": "stdout",
     "output_type": "stream",
     "text": [
      "<class 'pandas.core.frame.DataFrame'>\n",
      "RangeIndex: 2925 entries, 0 to 2924\n",
      "Columns: 274 entries, Lot Frontage to Sale Condition_Partial\n",
      "dtypes: float64(11), int64(263)\n",
      "memory usage: 6.1 MB\n"
     ]
    }
   ],
   "source": [
    "df.info()"
   ]
  },
  {
   "cell_type": "code",
   "execution_count": 5,
   "id": "adc13a9c",
   "metadata": {},
   "outputs": [],
   "source": [
    "#Seperate into X features and y label\n",
    "X = df.drop('SalePrice',axis=1)\n",
    "y = df['SalePrice']"
   ]
  },
  {
   "cell_type": "code",
   "execution_count": 6,
   "id": "4d3013ca",
   "metadata": {},
   "outputs": [],
   "source": [
    "#Train test split\n",
    "from sklearn.model_selection import train_test_split\n",
    "X_train, X_test, y_train, y_test = train_test_split(X, y, test_size=0.1, random_state=101)"
   ]
  },
  {
   "cell_type": "code",
   "execution_count": 7,
   "id": "4a21f687",
   "metadata": {},
   "outputs": [],
   "source": [
    "# scaling the X features\n",
    "from sklearn.preprocessing import StandardScaler"
   ]
  },
  {
   "cell_type": "code",
   "execution_count": 8,
   "id": "1e2fbb01",
   "metadata": {},
   "outputs": [],
   "source": [
    "scaler = StandardScaler()"
   ]
  },
  {
   "cell_type": "code",
   "execution_count": 9,
   "id": "8f8743fb",
   "metadata": {},
   "outputs": [],
   "source": [
    "scaler.fit(X_train)\n",
    "X_train = scaler.transform(X_train)\n",
    "X_test = scaler.transform(X_test)"
   ]
  },
  {
   "cell_type": "code",
   "execution_count": 10,
   "id": "390fd1e5",
   "metadata": {},
   "outputs": [],
   "source": [
    "# Using ElasticNet Model\n",
    "from sklearn.linear_model import ElasticNet"
   ]
  },
  {
   "cell_type": "code",
   "execution_count": 11,
   "id": "76c0151e",
   "metadata": {},
   "outputs": [],
   "source": [
    "elasticNetModel = ElasticNet()"
   ]
  },
  {
   "cell_type": "code",
   "execution_count": 12,
   "id": "3c260894",
   "metadata": {},
   "outputs": [],
   "source": [
    "# Creating Parameter Grid to find the alpha and l1_ratio for Elastic Net\n",
    "grid_param = {'alpha':[0.1,1,5,10,50,100],\n",
    "             'l1_ratio':[.1,.5,.7,.95,.99,1]}"
   ]
  },
  {
   "cell_type": "code",
   "execution_count": 13,
   "id": "a3cfd804",
   "metadata": {},
   "outputs": [],
   "source": [
    "# Cross Validation\n",
    "from sklearn.model_selection import GridSearchCV\n",
    "gridModel = GridSearchCV(estimator=elasticNetModel,\n",
    "                        param_grid=grid_param,\n",
    "                        scoring='neg_mean_squared_error',\n",
    "                        cv=5,\n",
    "                        verbose=0)"
   ]
  },
  {
   "cell_type": "code",
   "execution_count": 14,
   "id": "4e52a0aa",
   "metadata": {},
   "outputs": [
    {
     "name": "stderr",
     "output_type": "stream",
     "text": [
      "C:\\Users\\david\\Anaconda3\\envs\\DataScience\\lib\\site-packages\\sklearn\\linear_model\\_coordinate_descent.py:531: ConvergenceWarning: Objective did not converge. You might want to increase the number of iterations. Duality gap: 323508201435.68036, tolerance: 1355206692.5276787\n",
      "  positive)\n",
      "C:\\Users\\david\\Anaconda3\\envs\\DataScience\\lib\\site-packages\\sklearn\\linear_model\\_coordinate_descent.py:531: ConvergenceWarning: Objective did not converge. You might want to increase the number of iterations. Duality gap: 336948879951.1184, tolerance: 1307913805.6588457\n",
      "  positive)\n",
      "C:\\Users\\david\\Anaconda3\\envs\\DataScience\\lib\\site-packages\\sklearn\\linear_model\\_coordinate_descent.py:531: ConvergenceWarning: Objective did not converge. You might want to increase the number of iterations. Duality gap: 357509968449.74316, tolerance: 1415056940.0061066\n",
      "  positive)\n",
      "C:\\Users\\david\\Anaconda3\\envs\\DataScience\\lib\\site-packages\\sklearn\\linear_model\\_coordinate_descent.py:531: ConvergenceWarning: Objective did not converge. You might want to increase the number of iterations. Duality gap: 388683651672.2949, tolerance: 1438198040.088288\n",
      "  positive)\n",
      "C:\\Users\\david\\Anaconda3\\envs\\DataScience\\lib\\site-packages\\sklearn\\linear_model\\_coordinate_descent.py:531: ConvergenceWarning: Objective did not converge. You might want to increase the number of iterations. Duality gap: 292809907400.36206, tolerance: 1345680018.2551236\n",
      "  positive)\n",
      "C:\\Users\\david\\Anaconda3\\envs\\DataScience\\lib\\site-packages\\sklearn\\linear_model\\_coordinate_descent.py:531: ConvergenceWarning: Objective did not converge. You might want to increase the number of iterations. Duality gap: 354244712120.8137, tolerance: 1355206692.5276787\n",
      "  positive)\n",
      "C:\\Users\\david\\Anaconda3\\envs\\DataScience\\lib\\site-packages\\sklearn\\linear_model\\_coordinate_descent.py:531: ConvergenceWarning: Objective did not converge. You might want to increase the number of iterations. Duality gap: 363490863623.8183, tolerance: 1307913805.6588457\n",
      "  positive)\n",
      "C:\\Users\\david\\Anaconda3\\envs\\DataScience\\lib\\site-packages\\sklearn\\linear_model\\_coordinate_descent.py:531: ConvergenceWarning: Objective did not converge. You might want to increase the number of iterations. Duality gap: 408539308800.79504, tolerance: 1415056940.0061066\n",
      "  positive)\n",
      "C:\\Users\\david\\Anaconda3\\envs\\DataScience\\lib\\site-packages\\sklearn\\linear_model\\_coordinate_descent.py:531: ConvergenceWarning: Objective did not converge. You might want to increase the number of iterations. Duality gap: 407083927692.8738, tolerance: 1438198040.088288\n",
      "  positive)\n",
      "C:\\Users\\david\\Anaconda3\\envs\\DataScience\\lib\\site-packages\\sklearn\\linear_model\\_coordinate_descent.py:531: ConvergenceWarning: Objective did not converge. You might want to increase the number of iterations. Duality gap: 355296428563.4154, tolerance: 1345680018.2551236\n",
      "  positive)\n",
      "C:\\Users\\david\\Anaconda3\\envs\\DataScience\\lib\\site-packages\\sklearn\\linear_model\\_coordinate_descent.py:531: ConvergenceWarning: Objective did not converge. You might want to increase the number of iterations. Duality gap: 349811975084.8027, tolerance: 1355206692.5276787\n",
      "  positive)\n",
      "C:\\Users\\david\\Anaconda3\\envs\\DataScience\\lib\\site-packages\\sklearn\\linear_model\\_coordinate_descent.py:531: ConvergenceWarning: Objective did not converge. You might want to increase the number of iterations. Duality gap: 359107413789.82935, tolerance: 1307913805.6588457\n",
      "  positive)\n",
      "C:\\Users\\david\\Anaconda3\\envs\\DataScience\\lib\\site-packages\\sklearn\\linear_model\\_coordinate_descent.py:531: ConvergenceWarning: Objective did not converge. You might want to increase the number of iterations. Duality gap: 406611694447.3535, tolerance: 1415056940.0061066\n",
      "  positive)\n",
      "C:\\Users\\david\\Anaconda3\\envs\\DataScience\\lib\\site-packages\\sklearn\\linear_model\\_coordinate_descent.py:531: ConvergenceWarning: Objective did not converge. You might want to increase the number of iterations. Duality gap: 402834204598.12885, tolerance: 1438198040.088288\n",
      "  positive)\n",
      "C:\\Users\\david\\Anaconda3\\envs\\DataScience\\lib\\site-packages\\sklearn\\linear_model\\_coordinate_descent.py:531: ConvergenceWarning: Objective did not converge. You might want to increase the number of iterations. Duality gap: 368658319394.3744, tolerance: 1345680018.2551236\n",
      "  positive)\n",
      "C:\\Users\\david\\Anaconda3\\envs\\DataScience\\lib\\site-packages\\sklearn\\linear_model\\_coordinate_descent.py:531: ConvergenceWarning: Objective did not converge. You might want to increase the number of iterations. Duality gap: 302531521066.7681, tolerance: 1355206692.5276787\n",
      "  positive)\n",
      "C:\\Users\\david\\Anaconda3\\envs\\DataScience\\lib\\site-packages\\sklearn\\linear_model\\_coordinate_descent.py:531: ConvergenceWarning: Objective did not converge. You might want to increase the number of iterations. Duality gap: 312733820929.518, tolerance: 1307913805.6588457\n",
      "  positive)\n",
      "C:\\Users\\david\\Anaconda3\\envs\\DataScience\\lib\\site-packages\\sklearn\\linear_model\\_coordinate_descent.py:531: ConvergenceWarning: Objective did not converge. You might want to increase the number of iterations. Duality gap: 347531367248.8534, tolerance: 1415056940.0061066\n",
      "  positive)\n",
      "C:\\Users\\david\\Anaconda3\\envs\\DataScience\\lib\\site-packages\\sklearn\\linear_model\\_coordinate_descent.py:531: ConvergenceWarning: Objective did not converge. You might want to increase the number of iterations. Duality gap: 352595740834.97046, tolerance: 1438198040.088288\n",
      "  positive)\n",
      "C:\\Users\\david\\Anaconda3\\envs\\DataScience\\lib\\site-packages\\sklearn\\linear_model\\_coordinate_descent.py:531: ConvergenceWarning: Objective did not converge. You might want to increase the number of iterations. Duality gap: 255889875128.0997, tolerance: 1345680018.2551236\n",
      "  positive)\n",
      "C:\\Users\\david\\Anaconda3\\envs\\DataScience\\lib\\site-packages\\sklearn\\linear_model\\_coordinate_descent.py:531: ConvergenceWarning: Objective did not converge. You might want to increase the number of iterations. Duality gap: 170731423283.75342, tolerance: 1355206692.5276787\n",
      "  positive)\n",
      "C:\\Users\\david\\Anaconda3\\envs\\DataScience\\lib\\site-packages\\sklearn\\linear_model\\_coordinate_descent.py:531: ConvergenceWarning: Objective did not converge. You might want to increase the number of iterations. Duality gap: 186853289260.33496, tolerance: 1307913805.6588457\n",
      "  positive)\n",
      "C:\\Users\\david\\Anaconda3\\envs\\DataScience\\lib\\site-packages\\sklearn\\linear_model\\_coordinate_descent.py:531: ConvergenceWarning: Objective did not converge. You might want to increase the number of iterations. Duality gap: 196463479537.0419, tolerance: 1415056940.0061066\n",
      "  positive)\n",
      "C:\\Users\\david\\Anaconda3\\envs\\DataScience\\lib\\site-packages\\sklearn\\linear_model\\_coordinate_descent.py:531: ConvergenceWarning: Objective did not converge. You might want to increase the number of iterations. Duality gap: 212820336042.76007, tolerance: 1438198040.088288\n",
      "  positive)\n",
      "C:\\Users\\david\\Anaconda3\\envs\\DataScience\\lib\\site-packages\\sklearn\\linear_model\\_coordinate_descent.py:531: ConvergenceWarning: Objective did not converge. You might want to increase the number of iterations. Duality gap: 4848819954.123901, tolerance: 1345680018.2551236\n",
      "  positive)\n",
      "C:\\Users\\david\\Anaconda3\\envs\\DataScience\\lib\\site-packages\\sklearn\\linear_model\\_coordinate_descent.py:531: ConvergenceWarning: Objective did not converge. You might want to increase the number of iterations. Duality gap: 13130431879.617554, tolerance: 1355206692.5276787\n",
      "  positive)\n",
      "C:\\Users\\david\\Anaconda3\\envs\\DataScience\\lib\\site-packages\\sklearn\\linear_model\\_coordinate_descent.py:531: ConvergenceWarning: Objective did not converge. You might want to increase the number of iterations. Duality gap: 4413768640.779419, tolerance: 1307913805.6588457\n",
      "  positive)\n",
      "C:\\Users\\david\\Anaconda3\\envs\\DataScience\\lib\\site-packages\\sklearn\\linear_model\\_coordinate_descent.py:531: ConvergenceWarning: Objective did not converge. You might want to increase the number of iterations. Duality gap: 36282285999.41675, tolerance: 1415056940.0061066\n",
      "  positive)\n",
      "C:\\Users\\david\\Anaconda3\\envs\\DataScience\\lib\\site-packages\\sklearn\\linear_model\\_coordinate_descent.py:531: ConvergenceWarning: Objective did not converge. You might want to increase the number of iterations. Duality gap: 3970004908.5355225, tolerance: 1438198040.088288\n",
      "  positive)\n"
     ]
    },
    {
     "data": {
      "text/plain": [
       "GridSearchCV(cv=5, estimator=ElasticNet(),\n",
       "             param_grid={'alpha': [0.1, 1, 5, 10, 50, 100],\n",
       "                         'l1_ratio': [0.1, 0.5, 0.7, 0.95, 0.99, 1]},\n",
       "             scoring='neg_mean_squared_error')"
      ]
     },
     "execution_count": 14,
     "metadata": {},
     "output_type": "execute_result"
    }
   ],
   "source": [
    "gridModel.fit(X_train, y_train)"
   ]
  },
  {
   "cell_type": "code",
   "execution_count": 15,
   "id": "fa7f4cb9",
   "metadata": {},
   "outputs": [
    {
     "data": {
      "text/plain": [
       "ElasticNet(alpha=100, l1_ratio=1)"
      ]
     },
     "execution_count": 15,
     "metadata": {},
     "output_type": "execute_result"
    }
   ],
   "source": [
    "# Print the best combination for alpha and l1_ratio\n",
    "gridModel.best_estimator_"
   ]
  },
  {
   "cell_type": "code",
   "execution_count": 16,
   "id": "f8459b23",
   "metadata": {},
   "outputs": [],
   "source": [
    "# Predict the test set, and displaying the price from real data and predicted price\n",
    "y_pred = gridModel.predict(X_test)"
   ]
  },
  {
   "cell_type": "code",
   "execution_count": 17,
   "id": "3b7211f2",
   "metadata": {},
   "outputs": [
    {
     "data": {
      "text/plain": [
       "array([125500, 320000, 212109, 185088, 102000, 138887, 140000, 350000,\n",
       "        85400, 198500, 251000, 145000, 333168, 123000, 145100, 218000,\n",
       "       229000, 144000, 159000, 125000, 152000, 216500, 274300, 216837,\n",
       "       157500, 160500, 128900, 180000, 195500, 191000,  83000, 120000,\n",
       "       172500, 155835, 294000,  98000,  97900, 130000, 205000, 205000,\n",
       "       157000, 264561, 203000, 171900, 172500, 285000, 112500, 120500,\n",
       "       405000, 256900, 134500, 200825, 232000, 382500, 317500, 226001,\n",
       "       270000, 177594, 113000, 205000, 119500, 141000, 230000, 116500,\n",
       "       137000, 213500, 135000, 177000, 122500, 125000, 385000, 154000,\n",
       "       224000, 154000, 244000, 301000, 555000, 159500, 271000, 205000,\n",
       "       106000, 195000, 140000, 355000, 187000, 149900, 107500, 140000,\n",
       "       108000, 248500, 138000, 233000, 241600, 451950, 186700, 135000,\n",
       "       173000, 240000, 144000, 148500, 217000, 179781, 113500, 230000,\n",
       "       189000,  94000, 105000, 152000, 200500, 109500, 135900, 183000,\n",
       "       129900, 123900, 191000, 249000, 328000, 176500, 130000, 145000,\n",
       "       159500, 224000, 295000, 155000, 134900, 120000, 319900, 236000,\n",
       "       155000, 260000, 208500, 171000, 153500, 145000,  84900, 277000,\n",
       "       197900, 133000, 328900, 131900, 220000, 234000, 180000, 120000,\n",
       "       159000, 152000, 372397, 173000, 220000, 215000, 151500, 214900,\n",
       "       265000, 233230, 280000, 127000, 267916, 198000, 120000, 134800,\n",
       "        68400, 242000,  95000,  60000, 185900, 191000, 174500, 260000,\n",
       "       179000, 176000, 332000, 162000, 143195, 190000, 141000, 144900,\n",
       "       141000, 175900, 109500, 310090, 193000, 142500, 137500, 300000,\n",
       "       138000, 131500, 105900, 136500, 189000, 160000, 155000, 165500,\n",
       "       145000, 265900, 290000, 155000, 138000, 150900, 214500, 252000,\n",
       "       202665, 235000, 186000, 100000, 222000, 191500, 285000, 215000,\n",
       "       189900,  66500, 119900, 116000, 141000, 210000, 132000, 152500,\n",
       "       293000,  85000, 213000, 107500, 111500, 207000, 146000, 127500,\n",
       "        60000, 181000, 178000, 147983, 224500, 136500, 260116, 113000,\n",
       "       154500, 119200, 110000, 149900, 225000,  40000, 204000, 315000,\n",
       "       177000, 119000, 187000, 278000, 123000, 129500, 112000, 155500,\n",
       "       145000, 173900, 235000, 220000, 220000, 199000, 171000, 139500,\n",
       "       137000, 159500, 146500, 150000, 145500, 115000, 213500, 106000,\n",
       "       105000, 181000, 181316, 125000, 176500,  99500, 252000, 124500,\n",
       "       410000, 207500, 119000, 125000, 166000, 116900, 104500, 320000,\n",
       "       189950, 202500, 190000, 132250, 217300, 141000, 175000, 279500,\n",
       "       140500, 147500, 289000, 378500, 213000], dtype=int64)"
      ]
     },
     "execution_count": 17,
     "metadata": {},
     "output_type": "execute_result"
    }
   ],
   "source": [
    "np.array(y_test)"
   ]
  },
  {
   "cell_type": "code",
   "execution_count": 18,
   "id": "974e0ac0",
   "metadata": {},
   "outputs": [
    {
     "data": {
      "text/plain": [
       "array([115030.0108828 , 330700.15372654, 201207.12731429, 196378.72400031,\n",
       "       102219.74319082, 149001.41833178, 130072.86469072, 344190.99699698,\n",
       "        86317.81211648, 214611.83988343, 280702.74310865, 133181.46547467,\n",
       "       313228.76346267, 110025.52409208, 162260.28149297, 235688.91560529,\n",
       "       212164.9071257 , 139729.23537012, 166151.3842688 , 138201.59345812,\n",
       "       163063.02559551, 217573.52020481, 252731.55626605, 225696.62317213,\n",
       "       143089.79702881, 180148.28076638, 126670.91277983, 259872.59348454,\n",
       "       186330.54115183, 217235.54894129,  72441.18646171, 117379.48599897,\n",
       "       153390.9769354 , 191146.92308306, 247299.30063386,  90128.32765601,\n",
       "        91978.63317599, 135154.72698894, 212033.10745544, 211636.19384069,\n",
       "       165084.76510891, 269665.98189404, 196236.07683552, 157678.75420519,\n",
       "       169504.22735377, 291698.85706455, 108640.38433264, 106942.01149915,\n",
       "       407661.01966128, 238562.39217868, 143419.85167273, 199431.46443486,\n",
       "       228893.12046043, 384174.28809824, 306154.26578505, 225691.31007521,\n",
       "       266565.05488367, 188493.31759649, 109543.94076354, 208259.11886153,\n",
       "       118240.51645211, 132879.46521953, 224916.46564256, 128077.59732774,\n",
       "       157453.86994696, 225485.64713422, 121365.18128102, 185185.52790182,\n",
       "       127750.39391529, 128051.64617353, 445856.64049201, 172748.69114312,\n",
       "       223378.37616676, 146454.09083017, 205525.03106692, 289540.32565318,\n",
       "       473146.9417126 , 157073.53690929, 255172.72060492, 229646.90409844,\n",
       "       114146.42267231, 210569.9555209 , 141588.37183861, 327696.75574218,\n",
       "       191494.38163571, 137801.12604784, 146005.47058688, 151661.92812059,\n",
       "       117541.29978648, 275275.26015349, 145734.13872734, 231031.74760269,\n",
       "       204461.33219624, 411840.27496706, 221437.85494027, 124792.30397283,\n",
       "       162529.81296581, 251878.74537716, 114476.69671652, 146515.88983253,\n",
       "       204666.67190795, 187593.73535747, 134626.84717114, 206933.29188627,\n",
       "       171361.54019444,  88289.36969054,  77290.74552602, 143166.34985435,\n",
       "       184175.26412745, 118331.07618825, 114987.3302115 , 181039.41455181,\n",
       "       100508.56429739, 118121.38595135, 186731.15046299, 247024.28509083,\n",
       "       293113.72779972, 165472.87442442, 127791.90102219, 151743.94095747,\n",
       "       197076.16245365, 247289.34751171, 295057.82903147, 172782.11331111,\n",
       "       149773.93315752, 103214.88524052, 307998.69783674, 229524.65266516,\n",
       "       149796.94363652, 254519.25153979, 207881.16342069, 179123.73078909,\n",
       "       139551.23191933, 143020.21539047, 171513.73703748, 318095.31974666,\n",
       "       193968.87376068, 136322.83201361, 261246.47808516, 127214.92856645,\n",
       "       230931.46100948, 189641.33182253, 188004.77706996, 110789.58451922,\n",
       "       150977.08754615, 165578.96529472, 370826.36482335, 192482.22707649,\n",
       "       237196.68542604, 214552.31988937, 148916.74828528, 213401.77970121,\n",
       "       256873.49130123, 257818.12467761, 295246.23470582, 124678.16968355,\n",
       "       295742.73601047, 183833.80014867, 120887.80011894, 115974.25044867,\n",
       "        76078.49990743, 245513.52662191,  98209.4339788 ,  33162.02993658,\n",
       "       191965.7407549 , 190235.67451181, 178210.62282352, 323851.04415188,\n",
       "       160742.06580614, 181353.3931714 , 340429.98497472, 164018.53361519,\n",
       "       133836.63370239, 201443.51912294, 141883.91008881, 135088.19617628,\n",
       "       130886.34173033, 205426.39028252, 105789.14953732, 300147.82342855,\n",
       "       204768.24839205, 149322.16733858, 138240.11170388, 288825.69048827,\n",
       "       148044.05121816, 127441.73959039, 107668.0456531 , 134910.41206199,\n",
       "       194607.83302068, 145329.34874582, 173215.72517046, 186026.04938939,\n",
       "       127777.9054624 , 234581.54792859, 256381.89601679, 183197.60071968,\n",
       "       122086.36582327, 183466.21168183, 178397.76322197, 259166.49557201,\n",
       "       207026.42275896, 222836.11256431, 173018.7240865 ,  92703.34183953,\n",
       "       222027.42829695, 207392.50304015, 231292.54495636, 235604.44732673,\n",
       "       187897.71808187,  80824.03724275, 112098.58832854,  91299.00723462,\n",
       "        97624.56758067, 205760.32790569, 126890.11806531, 141648.84249688,\n",
       "       273154.27190397,  72366.47332102, 218958.45051227, 138761.46963742,\n",
       "       125966.00947022, 220116.6058477 , 143958.96221146, 126830.14850188,\n",
       "        84933.22050039, 171647.95514053, 165618.84365421, 143897.20389092,\n",
       "       214654.65391284, 158318.46644433, 290393.02959031,  80832.02894333,\n",
       "       154686.69929887, 114916.9359472 , 103885.2570439 , 156885.88223499,\n",
       "       221180.18259749,  93352.62998041, 222099.3483058 , 351650.22312063,\n",
       "       172363.88864039, 119341.33558298, 170586.87418671, 384010.82212395,\n",
       "       127165.57741951, 137633.38945975, 156519.37815274, 162494.105601  ,\n",
       "       142550.66536849, 182446.55184828, 257506.1522129 , 215855.83697139,\n",
       "       222543.50510097, 217783.21245511, 162372.23032314, 127848.55700053,\n",
       "       126458.10045631, 149918.58386861, 134918.64964791, 157148.01303162,\n",
       "       136849.93654192,  96755.04987117, 207846.89024757, 103403.15233259,\n",
       "       111315.4169329 , 187965.33422142, 172302.72528368, 124235.75291108,\n",
       "       182186.20403136,  96958.18312115, 276319.74776266, 121051.06497675,\n",
       "       384309.97055782, 208746.18808577, 119848.17298893, 124712.97220244,\n",
       "       189689.21866408, 116793.70427013,  93868.98986488, 340839.62092379,\n",
       "       167293.7881319 , 177638.10875165, 221737.39130783, 157968.9749088 ,\n",
       "       234497.44194489, 124227.38396354, 169796.47961232, 288642.21270182,\n",
       "       136881.98087181, 141489.77979297, 283482.35042987, 335152.68294515,\n",
       "       226587.34179686])"
      ]
     },
     "execution_count": 18,
     "metadata": {},
     "output_type": "execute_result"
    }
   ],
   "source": [
    "y_pred"
   ]
  },
  {
   "cell_type": "code",
   "execution_count": 28,
   "id": "0ffb3517",
   "metadata": {},
   "outputs": [
    {
     "name": "stdout",
     "output_type": "stream",
     "text": [
      "Real Price House      : $205000\n",
      "Predicted Price House : $211636.19\n"
     ]
    }
   ],
   "source": [
    "# for example getting random house price\n",
    "print(\"Real Price House      : ${}\".format(np.array(y_test)[39]))\n",
    "print(\"Predicted Price House : ${}\".format(y_pred[39].round(2)))"
   ]
  },
  {
   "cell_type": "code",
   "execution_count": 22,
   "id": "c4df0fc0",
   "metadata": {},
   "outputs": [],
   "source": [
    "# Evaluating model Performance"
   ]
  },
  {
   "cell_type": "code",
   "execution_count": 23,
   "id": "d597b29c",
   "metadata": {},
   "outputs": [],
   "source": [
    "from sklearn.metrics import mean_absolute_error, mean_squared_error\n",
    "MAE = mean_absolute_error(y_test, y_pred)\n",
    "RMSE = np.sqrt(mean_squared_error(y_test, y_pred))"
   ]
  },
  {
   "cell_type": "code",
   "execution_count": 26,
   "id": "240383c3",
   "metadata": {},
   "outputs": [
    {
     "name": "stdout",
     "output_type": "stream",
     "text": [
      "Mean Absolute Error     : 14195.354900562166\n",
      "Root Mean Squared Error : 20558.508566893164\n"
     ]
    }
   ],
   "source": [
    "print(\"Mean Absolute Error     : {}\".format(MAE))\n",
    "print(\"Root Mean Squared Error : {}\".format(RMSE))"
   ]
  },
  {
   "cell_type": "code",
   "execution_count": 27,
   "id": "98434054",
   "metadata": {},
   "outputs": [],
   "source": [
    "# From the statement above, we achieved a MAE of $14195.354900562166 and a RMSE of $20558.508566893164"
   ]
  }
 ],
 "metadata": {
  "kernelspec": {
   "display_name": "Python 3 (ipykernel)",
   "language": "python",
   "name": "python3"
  },
  "language_info": {
   "codemirror_mode": {
    "name": "ipython",
    "version": 3
   },
   "file_extension": ".py",
   "mimetype": "text/x-python",
   "name": "python",
   "nbconvert_exporter": "python",
   "pygments_lexer": "ipython3",
   "version": "3.7.11"
  }
 },
 "nbformat": 4,
 "nbformat_minor": 5
}
